{
  "nbformat": 4,
  "nbformat_minor": 0,
  "metadata": {
    "colab": {
      "provenance": []
    },
    "kernelspec": {
      "name": "python3",
      "display_name": "Python 3"
    },
    "language_info": {
      "name": "python"
    }
  },
  "cells": [
    {
      "cell_type": "code",
      "execution_count": 6,
      "metadata": {
        "id": "AdIbfH4Sdu2Z"
      },
      "outputs": [],
      "source": [
        "import numpy as np\n",
        "import pandas as pd"
      ]
    },
    {
      "cell_type": "code",
      "source": [
        "import os\n",
        "for dirname, _, filenames in os.walk('/kaggle/input'):\n",
        "    for filename in filenames:\n",
        "        print(os.path.join(dirname, filename))\n"
      ],
      "metadata": {
        "id": "s8x2gKi2d9al"
      },
      "execution_count": 7,
      "outputs": []
    },
    {
      "cell_type": "code",
      "source": [
        "import pandas as pd\n",
        "import numpy as np\n",
        "from numpy import array\n",
        "import math\n",
        "import matplotlib.pyplot as plt\n",
        "from sklearn.preprocessing import MinMaxScaler\n",
        "import tensorflow as tf\n",
        "from tensorflow.keras.models import Sequential\n",
        "from tensorflow.keras.layers import Dense\n",
        "from tensorflow.keras.layers import LSTM\n",
        "%matplotlib inline"
      ],
      "metadata": {
        "id": "GK5mNMT7eAQ0"
      },
      "execution_count": 8,
      "outputs": []
    },
    {
      "cell_type": "code",
      "source": [
        "df=pd.read_csv(\"/content/APPLE STOCK PREDICTION.csv\")\n",
        "df.head()"
      ],
      "metadata": {
        "colab": {
          "base_uri": "https://localhost:8080/",
          "height": 204
        },
        "id": "nVTffPkceKiy",
        "outputId": "44d00844-f31d-47dc-8166-ad5778d7ca8f"
      },
      "execution_count": 9,
      "outputs": [
        {
          "output_type": "execute_result",
          "data": {
            "text/plain": [
              "        Date    Open    High     Low   Close    Volume\n",
              "0  11-Aug-17  156.60  158.57  156.07  157.48  26257096\n",
              "1  10-Aug-17  159.90  160.00  154.63  155.32  40804273\n",
              "2   9-Aug-17  159.26  161.27  159.11  161.06  26131530\n",
              "3   8-Aug-17  158.60  161.83  158.27  160.08  36205896\n",
              "4   7-Aug-17  157.06  158.92  156.67  158.81  21870321"
            ],
            "text/html": [
              "\n",
              "  <div id=\"df-9c79c316-a4e6-4128-aa78-11a664c8b8c7\" class=\"colab-df-container\">\n",
              "    <div>\n",
              "<style scoped>\n",
              "    .dataframe tbody tr th:only-of-type {\n",
              "        vertical-align: middle;\n",
              "    }\n",
              "\n",
              "    .dataframe tbody tr th {\n",
              "        vertical-align: top;\n",
              "    }\n",
              "\n",
              "    .dataframe thead th {\n",
              "        text-align: right;\n",
              "    }\n",
              "</style>\n",
              "<table border=\"1\" class=\"dataframe\">\n",
              "  <thead>\n",
              "    <tr style=\"text-align: right;\">\n",
              "      <th></th>\n",
              "      <th>Date</th>\n",
              "      <th>Open</th>\n",
              "      <th>High</th>\n",
              "      <th>Low</th>\n",
              "      <th>Close</th>\n",
              "      <th>Volume</th>\n",
              "    </tr>\n",
              "  </thead>\n",
              "  <tbody>\n",
              "    <tr>\n",
              "      <th>0</th>\n",
              "      <td>11-Aug-17</td>\n",
              "      <td>156.60</td>\n",
              "      <td>158.57</td>\n",
              "      <td>156.07</td>\n",
              "      <td>157.48</td>\n",
              "      <td>26257096</td>\n",
              "    </tr>\n",
              "    <tr>\n",
              "      <th>1</th>\n",
              "      <td>10-Aug-17</td>\n",
              "      <td>159.90</td>\n",
              "      <td>160.00</td>\n",
              "      <td>154.63</td>\n",
              "      <td>155.32</td>\n",
              "      <td>40804273</td>\n",
              "    </tr>\n",
              "    <tr>\n",
              "      <th>2</th>\n",
              "      <td>9-Aug-17</td>\n",
              "      <td>159.26</td>\n",
              "      <td>161.27</td>\n",
              "      <td>159.11</td>\n",
              "      <td>161.06</td>\n",
              "      <td>26131530</td>\n",
              "    </tr>\n",
              "    <tr>\n",
              "      <th>3</th>\n",
              "      <td>8-Aug-17</td>\n",
              "      <td>158.60</td>\n",
              "      <td>161.83</td>\n",
              "      <td>158.27</td>\n",
              "      <td>160.08</td>\n",
              "      <td>36205896</td>\n",
              "    </tr>\n",
              "    <tr>\n",
              "      <th>4</th>\n",
              "      <td>7-Aug-17</td>\n",
              "      <td>157.06</td>\n",
              "      <td>158.92</td>\n",
              "      <td>156.67</td>\n",
              "      <td>158.81</td>\n",
              "      <td>21870321</td>\n",
              "    </tr>\n",
              "  </tbody>\n",
              "</table>\n",
              "</div>\n",
              "    <div class=\"colab-df-buttons\">\n",
              "\n",
              "  <div class=\"colab-df-container\">\n",
              "    <button class=\"colab-df-convert\" onclick=\"convertToInteractive('df-9c79c316-a4e6-4128-aa78-11a664c8b8c7')\"\n",
              "            title=\"Convert this dataframe to an interactive table.\"\n",
              "            style=\"display:none;\">\n",
              "\n",
              "  <svg xmlns=\"http://www.w3.org/2000/svg\" height=\"24px\" viewBox=\"0 -960 960 960\">\n",
              "    <path d=\"M120-120v-720h720v720H120Zm60-500h600v-160H180v160Zm220 220h160v-160H400v160Zm0 220h160v-160H400v160ZM180-400h160v-160H180v160Zm440 0h160v-160H620v160ZM180-180h160v-160H180v160Zm440 0h160v-160H620v160Z\"/>\n",
              "  </svg>\n",
              "    </button>\n",
              "\n",
              "  <style>\n",
              "    .colab-df-container {\n",
              "      display:flex;\n",
              "      gap: 12px;\n",
              "    }\n",
              "\n",
              "    .colab-df-convert {\n",
              "      background-color: #E8F0FE;\n",
              "      border: none;\n",
              "      border-radius: 50%;\n",
              "      cursor: pointer;\n",
              "      display: none;\n",
              "      fill: #1967D2;\n",
              "      height: 32px;\n",
              "      padding: 0 0 0 0;\n",
              "      width: 32px;\n",
              "    }\n",
              "\n",
              "    .colab-df-convert:hover {\n",
              "      background-color: #E2EBFA;\n",
              "      box-shadow: 0px 1px 2px rgba(60, 64, 67, 0.3), 0px 1px 3px 1px rgba(60, 64, 67, 0.15);\n",
              "      fill: #174EA6;\n",
              "    }\n",
              "\n",
              "    .colab-df-buttons div {\n",
              "      margin-bottom: 4px;\n",
              "    }\n",
              "\n",
              "    [theme=dark] .colab-df-convert {\n",
              "      background-color: #3B4455;\n",
              "      fill: #D2E3FC;\n",
              "    }\n",
              "\n",
              "    [theme=dark] .colab-df-convert:hover {\n",
              "      background-color: #434B5C;\n",
              "      box-shadow: 0px 1px 3px 1px rgba(0, 0, 0, 0.15);\n",
              "      filter: drop-shadow(0px 1px 2px rgba(0, 0, 0, 0.3));\n",
              "      fill: #FFFFFF;\n",
              "    }\n",
              "  </style>\n",
              "\n",
              "    <script>\n",
              "      const buttonEl =\n",
              "        document.querySelector('#df-9c79c316-a4e6-4128-aa78-11a664c8b8c7 button.colab-df-convert');\n",
              "      buttonEl.style.display =\n",
              "        google.colab.kernel.accessAllowed ? 'block' : 'none';\n",
              "\n",
              "      async function convertToInteractive(key) {\n",
              "        const element = document.querySelector('#df-9c79c316-a4e6-4128-aa78-11a664c8b8c7');\n",
              "        const dataTable =\n",
              "          await google.colab.kernel.invokeFunction('convertToInteractive',\n",
              "                                                    [key], {});\n",
              "        if (!dataTable) return;\n",
              "\n",
              "        const docLinkHtml = 'Like what you see? Visit the ' +\n",
              "          '<a target=\"_blank\" href=https://colab.research.google.com/notebooks/data_table.ipynb>data table notebook</a>'\n",
              "          + ' to learn more about interactive tables.';\n",
              "        element.innerHTML = '';\n",
              "        dataTable['output_type'] = 'display_data';\n",
              "        await google.colab.output.renderOutput(dataTable, element);\n",
              "        const docLink = document.createElement('div');\n",
              "        docLink.innerHTML = docLinkHtml;\n",
              "        element.appendChild(docLink);\n",
              "      }\n",
              "    </script>\n",
              "  </div>\n",
              "\n",
              "\n",
              "<div id=\"df-1d74fb89-7239-45e9-9ddb-7c685b066fa5\">\n",
              "  <button class=\"colab-df-quickchart\" onclick=\"quickchart('df-1d74fb89-7239-45e9-9ddb-7c685b066fa5')\"\n",
              "            title=\"Suggest charts\"\n",
              "            style=\"display:none;\">\n",
              "\n",
              "<svg xmlns=\"http://www.w3.org/2000/svg\" height=\"24px\"viewBox=\"0 0 24 24\"\n",
              "     width=\"24px\">\n",
              "    <g>\n",
              "        <path d=\"M19 3H5c-1.1 0-2 .9-2 2v14c0 1.1.9 2 2 2h14c1.1 0 2-.9 2-2V5c0-1.1-.9-2-2-2zM9 17H7v-7h2v7zm4 0h-2V7h2v10zm4 0h-2v-4h2v4z\"/>\n",
              "    </g>\n",
              "</svg>\n",
              "  </button>\n",
              "\n",
              "<style>\n",
              "  .colab-df-quickchart {\n",
              "      --bg-color: #E8F0FE;\n",
              "      --fill-color: #1967D2;\n",
              "      --hover-bg-color: #E2EBFA;\n",
              "      --hover-fill-color: #174EA6;\n",
              "      --disabled-fill-color: #AAA;\n",
              "      --disabled-bg-color: #DDD;\n",
              "  }\n",
              "\n",
              "  [theme=dark] .colab-df-quickchart {\n",
              "      --bg-color: #3B4455;\n",
              "      --fill-color: #D2E3FC;\n",
              "      --hover-bg-color: #434B5C;\n",
              "      --hover-fill-color: #FFFFFF;\n",
              "      --disabled-bg-color: #3B4455;\n",
              "      --disabled-fill-color: #666;\n",
              "  }\n",
              "\n",
              "  .colab-df-quickchart {\n",
              "    background-color: var(--bg-color);\n",
              "    border: none;\n",
              "    border-radius: 50%;\n",
              "    cursor: pointer;\n",
              "    display: none;\n",
              "    fill: var(--fill-color);\n",
              "    height: 32px;\n",
              "    padding: 0;\n",
              "    width: 32px;\n",
              "  }\n",
              "\n",
              "  .colab-df-quickchart:hover {\n",
              "    background-color: var(--hover-bg-color);\n",
              "    box-shadow: 0 1px 2px rgba(60, 64, 67, 0.3), 0 1px 3px 1px rgba(60, 64, 67, 0.15);\n",
              "    fill: var(--button-hover-fill-color);\n",
              "  }\n",
              "\n",
              "  .colab-df-quickchart-complete:disabled,\n",
              "  .colab-df-quickchart-complete:disabled:hover {\n",
              "    background-color: var(--disabled-bg-color);\n",
              "    fill: var(--disabled-fill-color);\n",
              "    box-shadow: none;\n",
              "  }\n",
              "\n",
              "  .colab-df-spinner {\n",
              "    border: 2px solid var(--fill-color);\n",
              "    border-color: transparent;\n",
              "    border-bottom-color: var(--fill-color);\n",
              "    animation:\n",
              "      spin 1s steps(1) infinite;\n",
              "  }\n",
              "\n",
              "  @keyframes spin {\n",
              "    0% {\n",
              "      border-color: transparent;\n",
              "      border-bottom-color: var(--fill-color);\n",
              "      border-left-color: var(--fill-color);\n",
              "    }\n",
              "    20% {\n",
              "      border-color: transparent;\n",
              "      border-left-color: var(--fill-color);\n",
              "      border-top-color: var(--fill-color);\n",
              "    }\n",
              "    30% {\n",
              "      border-color: transparent;\n",
              "      border-left-color: var(--fill-color);\n",
              "      border-top-color: var(--fill-color);\n",
              "      border-right-color: var(--fill-color);\n",
              "    }\n",
              "    40% {\n",
              "      border-color: transparent;\n",
              "      border-right-color: var(--fill-color);\n",
              "      border-top-color: var(--fill-color);\n",
              "    }\n",
              "    60% {\n",
              "      border-color: transparent;\n",
              "      border-right-color: var(--fill-color);\n",
              "    }\n",
              "    80% {\n",
              "      border-color: transparent;\n",
              "      border-right-color: var(--fill-color);\n",
              "      border-bottom-color: var(--fill-color);\n",
              "    }\n",
              "    90% {\n",
              "      border-color: transparent;\n",
              "      border-bottom-color: var(--fill-color);\n",
              "    }\n",
              "  }\n",
              "</style>\n",
              "\n",
              "  <script>\n",
              "    async function quickchart(key) {\n",
              "      const quickchartButtonEl =\n",
              "        document.querySelector('#' + key + ' button');\n",
              "      quickchartButtonEl.disabled = true;  // To prevent multiple clicks.\n",
              "      quickchartButtonEl.classList.add('colab-df-spinner');\n",
              "      try {\n",
              "        const charts = await google.colab.kernel.invokeFunction(\n",
              "            'suggestCharts', [key], {});\n",
              "      } catch (error) {\n",
              "        console.error('Error during call to suggestCharts:', error);\n",
              "      }\n",
              "      quickchartButtonEl.classList.remove('colab-df-spinner');\n",
              "      quickchartButtonEl.classList.add('colab-df-quickchart-complete');\n",
              "    }\n",
              "    (() => {\n",
              "      let quickchartButtonEl =\n",
              "        document.querySelector('#df-1d74fb89-7239-45e9-9ddb-7c685b066fa5 button');\n",
              "      quickchartButtonEl.style.display =\n",
              "        google.colab.kernel.accessAllowed ? 'block' : 'none';\n",
              "    })();\n",
              "  </script>\n",
              "</div>\n",
              "\n",
              "    </div>\n",
              "  </div>\n"
            ],
            "application/vnd.google.colaboratory.intrinsic+json": {
              "type": "dataframe",
              "variable_name": "df",
              "summary": "{\n  \"name\": \"df\",\n  \"rows\": 1664,\n  \"fields\": [\n    {\n      \"column\": \"Date\",\n      \"properties\": {\n        \"dtype\": \"object\",\n        \"num_unique_values\": 1664,\n        \"samples\": [\n          \"8-Nov-11\",\n          \"9-Dec-16\",\n          \"27-Sep-16\"\n        ],\n        \"semantic_type\": \"\",\n        \"description\": \"\"\n      }\n    },\n    {\n      \"column\": \"Open\",\n      \"properties\": {\n        \"dtype\": \"number\",\n        \"std\": 28.25835972676523,\n        \"min\": 45.24,\n        \"max\": 159.9,\n        \"num_unique_values\": 1522,\n        \"samples\": [\n          126.09,\n          77.24,\n          48.94\n        ],\n        \"semantic_type\": \"\",\n        \"description\": \"\"\n      }\n    },\n    {\n      \"column\": \"High\",\n      \"properties\": {\n        \"dtype\": \"number\",\n        \"std\": 28.42184968381009,\n        \"min\": 45.39,\n        \"max\": 161.83,\n        \"num_unique_values\": 1510,\n        \"samples\": [\n          69.95,\n          111.44,\n          66.3\n        ],\n        \"semantic_type\": \"\",\n        \"description\": \"\"\n      }\n    },\n    {\n      \"column\": \"Low\",\n      \"properties\": {\n        \"dtype\": \"number\",\n        \"std\": 28.094247557075096,\n        \"min\": 44.36,\n        \"max\": 159.11,\n        \"num_unique_values\": 1498,\n        \"samples\": [\n          60.11,\n          53.64,\n          49.79\n        ],\n        \"semantic_type\": \"\",\n        \"description\": \"\"\n      }\n    },\n    {\n      \"column\": \"Close\",\n      \"properties\": {\n        \"dtype\": \"number\",\n        \"std\": 28.27235123140802,\n        \"min\": 45.05,\n        \"max\": 161.06,\n        \"num_unique_values\": 1498,\n        \"samples\": [\n          65.74,\n          51.94,\n          50.1\n        ],\n        \"semantic_type\": \"\",\n        \"description\": \"\"\n      }\n    },\n    {\n      \"column\": \"Volume\",\n      \"properties\": {\n        \"dtype\": \"number\",\n        \"std\": 54461905,\n        \"min\": 11475922,\n        \"max\": 470246700,\n        \"num_unique_values\": 1664,\n        \"samples\": [\n          100109842,\n          34402627,\n          24607412\n        ],\n        \"semantic_type\": \"\",\n        \"description\": \"\"\n      }\n    }\n  ]\n}"
            }
          },
          "metadata": {},
          "execution_count": 9
        }
      ]
    },
    {
      "cell_type": "code",
      "source": [
        "df.shape"
      ],
      "metadata": {
        "colab": {
          "base_uri": "https://localhost:8080/"
        },
        "id": "Wyn8fXUAeQhi",
        "outputId": "659edd50-08f0-4aa9-9621-30519bf424df"
      },
      "execution_count": 10,
      "outputs": [
        {
          "output_type": "execute_result",
          "data": {
            "text/plain": [
              "(1664, 6)"
            ]
          },
          "metadata": {},
          "execution_count": 10
        }
      ]
    },
    {
      "cell_type": "code",
      "source": [
        "df1=df.reset_index()['Close'];df1"
      ],
      "metadata": {
        "colab": {
          "base_uri": "https://localhost:8080/"
        },
        "id": "QlPeUxwbeVFS",
        "outputId": "31d0af59-1875-4020-cc1e-3f84a65072cd"
      },
      "execution_count": 11,
      "outputs": [
        {
          "output_type": "execute_result",
          "data": {
            "text/plain": [
              "0       157.48\n",
              "1       155.32\n",
              "2       161.06\n",
              "3       160.08\n",
              "4       158.81\n",
              "         ...  \n",
              "1659     48.02\n",
              "1660     47.68\n",
              "1661     47.71\n",
              "1662     47.33\n",
              "1663     47.08\n",
              "Name: Close, Length: 1664, dtype: float64"
            ]
          },
          "metadata": {},
          "execution_count": 11
        }
      ]
    },
    {
      "cell_type": "code",
      "source": [
        "plt.plot(df1);plt.show()"
      ],
      "metadata": {
        "colab": {
          "base_uri": "https://localhost:8080/",
          "height": 430
        },
        "id": "U252xzNweYzw",
        "outputId": "3bca18ce-16ae-4856-ddcd-e24a7c59fb71"
      },
      "execution_count": 12,
      "outputs": [
        {
          "output_type": "display_data",
          "data": {
            "text/plain": [
              "<Figure size 640x480 with 1 Axes>"
            ],
            "image/png": "[encoded data removed]"
          },
          "metadata": {}
        }
      ]
    },
    {
      "cell_type": "code",
      "source": [
        "scaler=MinMaxScaler(feature_range=(0,1))\n",
        "df1=scaler.fit_transform(np.array(df1).reshape(-1,1));df1"
      ],
      "metadata": {
        "colab": {
          "base_uri": "https://localhost:8080/"
        },
        "id": "b3rz0rU7ebm8",
        "outputId": "1f70bec0-5fa0-480f-f468-043c47a6d529"
      },
      "execution_count": 13,
      "outputs": [
        {
          "output_type": "execute_result",
          "data": {
            "text/plain": [
              "array([[0.96914059],\n",
              "       [0.95052151],\n",
              "       [1.        ],\n",
              "       ...,\n",
              "       [0.02292906],\n",
              "       [0.01965348],\n",
              "       [0.01749849]])"
            ]
          },
          "metadata": {},
          "execution_count": 13
        }
      ]
    },
    {
      "cell_type": "code",
      "source": [
        "training_size=int(len(df1)*0.65)\n",
        "test_size=len(df1)-training_size\n",
        "train_data,test_data=df1[0:training_size,:],df1[training_size:len(df1),:1]\n",
        "print(training_size,test_size)"
      ],
      "metadata": {
        "colab": {
          "base_uri": "https://localhost:8080/"
        },
        "id": "oU6s8iu6ejX8",
        "outputId": "37ea6222-1b51-4e5d-d4bf-7cc6192debcb"
      },
      "execution_count": 14,
      "outputs": [
        {
          "output_type": "stream",
          "name": "stdout",
          "text": [
            "1081 583\n"
          ]
        }
      ]
    },
    {
      "cell_type": "code",
      "source": [
        "def create_dataset(dataset, time_step=1):\n",
        "    dataX, dataY = [], []\n",
        "    for i in range(len(dataset)-time_step-1):\n",
        "        a = dataset[i:(i+time_step), 0]   ###i=0, 0,1,2,3-----99   100\n",
        "        dataX.append(a)\n",
        "        dataY.append(dataset[i + time_step, 0])\n",
        "    return np.array(dataX), np.array(dataY)"
      ],
      "metadata": {
        "id": "wSzpkRw5els8"
      },
      "execution_count": 15,
      "outputs": []
    },
    {
      "cell_type": "code",
      "source": [
        "time_step = 100\n",
        "X_train, y_train = create_dataset(train_data, time_step)\n",
        "X_test, ytest = create_dataset(test_data, time_step)"
      ],
      "metadata": {
        "id": "qkeu017Renlc"
      },
      "execution_count": 16,
      "outputs": []
    },
    {
      "cell_type": "code",
      "source": [
        "print(X_train.shape), print(y_train.shape),print(X_test.shape), print(ytest.shape)"
      ],
      "metadata": {
        "colab": {
          "base_uri": "https://localhost:8080/"
        },
        "id": "xomARZF5er5F",
        "outputId": "930aee38-cb69-46ec-8c67-08a968373b90"
      },
      "execution_count": 17,
      "outputs": [
        {
          "output_type": "stream",
          "name": "stdout",
          "text": [
            "(980, 100)\n",
            "(980,)\n",
            "(482, 100)\n",
            "(482,)\n"
          ]
        },
        {
          "output_type": "execute_result",
          "data": {
            "text/plain": [
              "(None, None, None, None)"
            ]
          },
          "metadata": {},
          "execution_count": 17
        }
      ]
    },
    {
      "cell_type": "code",
      "source": [
        "X_train =X_train.reshape(X_train.shape[0],X_train.shape[1] , 1)\n",
        "X_test = X_test.reshape(X_test.shape[0],X_test.shape[1] , 1)"
      ],
      "metadata": {
        "id": "tKxrwPFfe9yZ"
      },
      "execution_count": 18,
      "outputs": []
    },
    {
      "cell_type": "code",
      "source": [
        "\n",
        "model=Sequential()\n",
        "model.add(LSTM(50,return_sequences=True,input_shape=(100,1)))\n",
        "model.add(LSTM(50,return_sequences=True))\n",
        "model.add(LSTM(50))\n",
        "model.add(Dense(1))\n",
        "model.compile(loss='mse',optimizer='adam')\n",
        "model.summary()"
      ],
      "metadata": {
        "colab": {
          "base_uri": "https://localhost:8080/"
        },
        "id": "Kz_EXFtgfAWp",
        "outputId": "0be4aed5-d32b-4505-c107-8ab9dd0cd9f4"
      },
      "execution_count": 19,
      "outputs": [
        {
          "output_type": "stream",
          "name": "stdout",
          "text": [
            "Model: \"sequential\"\n",
            "_________________________________________________________________\n",
            " Layer (type)                Output Shape              Param #   \n",
            "=================================================================\n",
            " lstm (LSTM)                 (None, 100, 50)           10400     \n",
            "                                                                 \n",
            " lstm_1 (LSTM)               (None, 100, 50)           20200     \n",
            "                                                                 \n",
            " lstm_2 (LSTM)               (None, 50)                20200     \n",
            "                                                                 \n",
            " dense (Dense)               (None, 1)                 51        \n",
            "                                                                 \n",
            "=================================================================\n",
            "Total params: 50851 (198.64 KB)\n",
            "Trainable params: 50851 (198.64 KB)\n",
            "Non-trainable params: 0 (0.00 Byte)\n",
            "_________________________________________________________________\n"
          ]
        }
      ]
    },
    {
      "cell_type": "code",
      "source": [
        "model.fit(X_train,y_train,validation_data=(X_test,ytest),epochs=100,batch_size=64,verbose=0)"
      ],
      "metadata": {
        "colab": {
          "base_uri": "https://localhost:8080/"
        },
        "id": "I6G5DwY5fokA",
        "outputId": "00011b55-06b8-44ee-8f85-5a985c1ae1e9"
      },
      "execution_count": 20,
      "outputs": [
        {
          "output_type": "execute_result",
          "data": {
            "text/plain": [
              "<keras.src.callbacks.History at 0x798d19e5f040>"
            ]
          },
          "metadata": {},
          "execution_count": 20
        }
      ]
    },
    {
      "cell_type": "code",
      "source": [
        "train_predict=model.predict(X_train)\n",
        "test_predict=model.predict(X_test)"
      ],
      "metadata": {
        "colab": {
          "base_uri": "https://localhost:8080/"
        },
        "id": "D6ua6EIOG-Y5",
        "outputId": "97196705-3ec1-4c88-c93d-510a6b68aa43"
      },
      "execution_count": 23,
      "outputs": [
        {
          "output_type": "stream",
          "name": "stdout",
          "text": [
            "31/31 [==============================] - 1s 39ms/step\n",
            "16/16 [==============================] - 1s 39ms/step\n"
          ]
        }
      ]
    },
    {
      "cell_type": "code",
      "source": [
        "train_predict=scaler.inverse_transform(train_predict)\n",
        "test_predict=scaler.inverse_transform(test_predict)"
      ],
      "metadata": {
        "id": "79mibFujHAp4"
      },
      "execution_count": 24,
      "outputs": []
    },
    {
      "cell_type": "code",
      "source": [
        "from sklearn.metrics import mean_squared_error\n",
        "print(math.sqrt(mean_squared_error(y_train,train_predict)))\n",
        "print(math.sqrt(mean_squared_error(ytest,test_predict)))"
      ],
      "metadata": {
        "colab": {
          "base_uri": "https://localhost:8080/"
        },
        "id": "ypdUUkpcHGUw",
        "outputId": "f598c77b-a51a-4c9c-81ce-55fa8c742199"
      },
      "execution_count": 25,
      "outputs": [
        {
          "output_type": "stream",
          "name": "stdout",
          "text": [
            "100.98150997776841\n",
            "68.48293770303124\n"
          ]
        }
      ]
    },
    {
      "cell_type": "code",
      "source": [
        "look_back=100\n",
        "trainPredictPlot = np.empty_like(df1)\n",
        "trainPredictPlot[:, :] = np.nan\n",
        "trainPredictPlot[look_back:len(train_predict)+look_back, :] = train_predict\n",
        "# shift test predictions for plotting\n",
        "testPredictPlot = np.empty_like(df1)\n",
        "testPredictPlot[:, :] = np.nan\n",
        "testPredictPlot[len(train_predict)+(look_back*2)+1:len(df1)-1, :] = test_predict\n",
        "# plot baseline and predictions\n",
        "plt.plot(scaler.inverse_transform(df1))\n",
        "plt.plot(trainPredictPlot)\n",
        "plt.plot(testPredictPlot)\n",
        "plt.legend()\n",
        "plt.show()"
      ],
      "metadata": {
        "colab": {
          "base_uri": "https://localhost:8080/",
          "height": 467
        },
        "id": "w8dm32yAHI3L",
        "outputId": "c68caaf2-de0f-4533-a7fc-5bd82188f93f"
      },
      "execution_count": 26,
      "outputs": [
        {
          "output_type": "stream",
          "name": "stderr",
          "text": [
            "WARNING:matplotlib.legend:No artists with labels found to put in legend.  Note that artists whose label start with an underscore are ignored when legend() is called with no argument.\n"
          ]
        },
        {
          "output_type": "display_data",
          "data": {
            "text/plain": [
              "<Figure size 640x480 with 1 Axes>"
            ],
            "image/png": "[encoded data removed]"
          },
          "metadata": {}
        }
      ]
    },
    {
      "cell_type": "code",
      "source": [
        "x_input=test_data[483:].reshape(1,-1) #len(test_data)\n",
        "temp_input=list(x_input)\n",
        "temp_input=temp_input[0].tolist()"
      ],
      "metadata": {
        "id": "iuegY2CTHLqU"
      },
      "execution_count": 27,
      "outputs": []
    },
    {
      "cell_type": "code",
      "source": [
        "lst_output=[]\n",
        "n_steps=100\n",
        "i=0\n",
        "while(i<30):\n",
        "\n",
        "    if(len(temp_input)>100):\n",
        "        #print(temp_input)\n",
        "        x_input=np.array(temp_input[1:])\n",
        "        print(\"{} day input {}\".format(i,x_input))\n",
        "        x_input=x_input.reshape(1,-1)\n",
        "        x_input = x_input.reshape((1, n_steps, 1))\n",
        "        #print(x_input)\n",
        "        yhat = model.predict(x_input, verbose=0)\n",
        "        print(\"{} day output {}\".format(i,yhat))\n",
        "        temp_input.extend(yhat[0].tolist())\n",
        "        temp_input=temp_input[1:]\n",
        "        #print(temp_input)\n",
        "        lst_output.extend(yhat.tolist())\n",
        "        i=i+1\n",
        "    else:\n",
        "        x_input = x_input.reshape((1, n_steps,1))\n",
        "        yhat = model.predict(x_input, verbose=0)\n",
        "        print(yhat[0])\n",
        "        temp_input.extend(yhat[0].tolist())\n",
        "        print(len(temp_input))\n",
        "        lst_output.extend(yhat.tolist())\n",
        "        i=i+1\n",
        "\n",
        "\n",
        "print(lst_output)"
      ],
      "metadata": {
        "colab": {
          "base_uri": "https://localhost:8080/"
        },
        "id": "ENBuuzBxHOyl",
        "outputId": "1f12337f-18f4-44dc-822f-4e00a12e766b"
      },
      "execution_count": 28,
      "outputs": [
        {
          "output_type": "stream",
          "name": "stdout",
          "text": [
            "[0.03225296]\n",
            "101\n",
            "1 day input [0.02077407 0.02344625 0.02448065 0.03103181 0.03016981 0.02560124\n",
            " 0.02206706 0.03094561 0.03844496 0.03922076 0.04197914 0.03973795\n",
            " 0.03853116 0.03870356 0.04215154 0.04042755 0.03810016 0.04284113\n",
            " 0.03870356 0.04284113 0.04318593 0.04637531 0.04353073 0.03335919\n",
            " 0.02775623 0.02034307 0.01491251 0.02103267 0.02560124 0.02103267\n",
            " 0.01905008 0.02430825 0.02801483 0.02792863 0.02896302 0.0318076\n",
            " 0.03594518 0.04085855 0.04094475 0.04387553 0.04318593 0.04456512\n",
            " 0.03646237 0.02939402 0.0318076  0.02948022 0.01887768 0.02379105\n",
            " 0.01801569 0.03706577 0.04706491 0.04508232 0.03853116 0.04568572\n",
            " 0.04973709 0.04930609 0.05499526 0.05447806 0.04525472 0.04180674\n",
            " 0.04663391 0.04042755 0.03387639 0.03361779 0.02861822 0.04335833\n",
            " 0.05292647 0.05887423 0.05482286 0.05396087 0.05111628 0.0482717\n",
            " 0.05275407 0.0490475  0.04499612 0.03835876 0.03456599 0.03568658\n",
            " 0.03654857 0.02948022 0.02551504 0.03430739 0.03508318 0.0320662\n",
            " 0.02723903 0.01396431 0.02137747 0.02896302 0.03111801 0.04077235\n",
            " 0.03732437 0.03577278 0.032411   0.03335919 0.02560124 0.02267046\n",
            " 0.02292906 0.01965348 0.01749849 0.03225296]\n",
            "1 day output [[0.03111256]]\n",
            "2 day input [0.02344625 0.02448065 0.03103181 0.03016981 0.02560124 0.02206706\n",
            " 0.03094561 0.03844496 0.03922076 0.04197914 0.03973795 0.03853116\n",
            " 0.03870356 0.04215154 0.04042755 0.03810016 0.04284113 0.03870356\n",
            " 0.04284113 0.04318593 0.04637531 0.04353073 0.03335919 0.02775623\n",
            " 0.02034307 0.01491251 0.02103267 0.02560124 0.02103267 0.01905008\n",
            " 0.02430825 0.02801483 0.02792863 0.02896302 0.0318076  0.03594518\n",
            " 0.04085855 0.04094475 0.04387553 0.04318593 0.04456512 0.03646237\n",
            " 0.02939402 0.0318076  0.02948022 0.01887768 0.02379105 0.01801569\n",
            " 0.03706577 0.04706491 0.04508232 0.03853116 0.04568572 0.04973709\n",
            " 0.04930609 0.05499526 0.05447806 0.04525472 0.04180674 0.04663391\n",
            " 0.04042755 0.03387639 0.03361779 0.02861822 0.04335833 0.05292647\n",
            " 0.05887423 0.05482286 0.05396087 0.05111628 0.0482717  0.05275407\n",
            " 0.0490475  0.04499612 0.03835876 0.03456599 0.03568658 0.03654857\n",
            " 0.02948022 0.02551504 0.03430739 0.03508318 0.0320662  0.02723903\n",
            " 0.01396431 0.02137747 0.02896302 0.03111801 0.04077235 0.03732437\n",
            " 0.03577278 0.032411   0.03335919 0.02560124 0.02267046 0.02292906\n",
            " 0.01965348 0.01749849 0.03225296 0.03111256]\n",
            "2 day output [[0.03084837]]\n",
            "3 day input [0.02448065 0.03103181 0.03016981 0.02560124 0.02206706 0.03094561\n",
            " 0.03844496 0.03922076 0.04197914 0.03973795 0.03853116 0.03870356\n",
            " 0.04215154 0.04042755 0.03810016 0.04284113 0.03870356 0.04284113\n",
            " 0.04318593 0.04637531 0.04353073 0.03335919 0.02775623 0.02034307\n",
            " 0.01491251 0.02103267 0.02560124 0.02103267 0.01905008 0.02430825\n",
            " 0.02801483 0.02792863 0.02896302 0.0318076  0.03594518 0.04085855\n",
            " 0.04094475 0.04387553 0.04318593 0.04456512 0.03646237 0.02939402\n",
            " 0.0318076  0.02948022 0.01887768 0.02379105 0.01801569 0.03706577\n",
            " 0.04706491 0.04508232 0.03853116 0.04568572 0.04973709 0.04930609\n",
            " 0.05499526 0.05447806 0.04525472 0.04180674 0.04663391 0.04042755\n",
            " 0.03387639 0.03361779 0.02861822 0.04335833 0.05292647 0.05887423\n",
            " 0.05482286 0.05396087 0.05111628 0.0482717  0.05275407 0.0490475\n",
            " 0.04499612 0.03835876 0.03456599 0.03568658 0.03654857 0.02948022\n",
            " 0.02551504 0.03430739 0.03508318 0.0320662  0.02723903 0.01396431\n",
            " 0.02137747 0.02896302 0.03111801 0.04077235 0.03732437 0.03577278\n",
            " 0.032411   0.03335919 0.02560124 0.02267046 0.02292906 0.01965348\n",
            " 0.01749849 0.03225296 0.03111256 0.03084837]\n",
            "3 day output [[0.03123633]]\n",
            "4 day input [0.03103181 0.03016981 0.02560124 0.02206706 0.03094561 0.03844496\n",
            " 0.03922076 0.04197914 0.03973795 0.03853116 0.03870356 0.04215154\n",
            " 0.04042755 0.03810016 0.04284113 0.03870356 0.04284113 0.04318593\n",
            " 0.04637531 0.04353073 0.03335919 0.02775623 0.02034307 0.01491251\n",
            " 0.02103267 0.02560124 0.02103267 0.01905008 0.02430825 0.02801483\n",
            " 0.02792863 0.02896302 0.0318076  0.03594518 0.04085855 0.04094475\n",
            " 0.04387553 0.04318593 0.04456512 0.03646237 0.02939402 0.0318076\n",
            " 0.02948022 0.01887768 0.02379105 0.01801569 0.03706577 0.04706491\n",
            " 0.04508232 0.03853116 0.04568572 0.04973709 0.04930609 0.05499526\n",
            " 0.05447806 0.04525472 0.04180674 0.04663391 0.04042755 0.03387639\n",
            " 0.03361779 0.02861822 0.04335833 0.05292647 0.05887423 0.05482286\n",
            " 0.05396087 0.05111628 0.0482717  0.05275407 0.0490475  0.04499612\n",
            " 0.03835876 0.03456599 0.03568658 0.03654857 0.02948022 0.02551504\n",
            " 0.03430739 0.03508318 0.0320662  0.02723903 0.01396431 0.02137747\n",
            " 0.02896302 0.03111801 0.04077235 0.03732437 0.03577278 0.032411\n",
            " 0.03335919 0.02560124 0.02267046 0.02292906 0.01965348 0.01749849\n",
            " 0.03225296 0.03111256 0.03084837 0.03123633]\n",
            "4 day output [[0.03201745]]\n",
            "5 day input [0.03016981 0.02560124 0.02206706 0.03094561 0.03844496 0.03922076\n",
            " 0.04197914 0.03973795 0.03853116 0.03870356 0.04215154 0.04042755\n",
            " 0.03810016 0.04284113 0.03870356 0.04284113 0.04318593 0.04637531\n",
            " 0.04353073 0.03335919 0.02775623 0.02034307 0.01491251 0.02103267\n",
            " 0.02560124 0.02103267 0.01905008 0.02430825 0.02801483 0.02792863\n",
            " 0.02896302 0.0318076  0.03594518 0.04085855 0.04094475 0.04387553\n",
            " 0.04318593 0.04456512 0.03646237 0.02939402 0.0318076  0.02948022\n",
            " 0.01887768 0.02379105 0.01801569 0.03706577 0.04706491 0.04508232\n",
            " 0.03853116 0.04568572 0.04973709 0.04930609 0.05499526 0.05447806\n",
            " 0.04525472 0.04180674 0.04663391 0.04042755 0.03387639 0.03361779\n",
            " 0.02861822 0.04335833 0.05292647 0.05887423 0.05482286 0.05396087\n",
            " 0.05111628 0.0482717  0.05275407 0.0490475  0.04499612 0.03835876\n",
            " 0.03456599 0.03568658 0.03654857 0.02948022 0.02551504 0.03430739\n",
            " 0.03508318 0.0320662  0.02723903 0.01396431 0.02137747 0.02896302\n",
            " 0.03111801 0.04077235 0.03732437 0.03577278 0.032411   0.03335919\n",
            " 0.02560124 0.02267046 0.02292906 0.01965348 0.01749849 0.03225296\n",
            " 0.03111256 0.03084837 0.03123633 0.03201745]\n",
            "5 day output [[0.03299335]]\n",
            "6 day input [0.02560124 0.02206706 0.03094561 0.03844496 0.03922076 0.04197914\n",
            " 0.03973795 0.03853116 0.03870356 0.04215154 0.04042755 0.03810016\n",
            " 0.04284113 0.03870356 0.04284113 0.04318593 0.04637531 0.04353073\n",
            " 0.03335919 0.02775623 0.02034307 0.01491251 0.02103267 0.02560124\n",
            " 0.02103267 0.01905008 0.02430825 0.02801483 0.02792863 0.02896302\n",
            " 0.0318076  0.03594518 0.04085855 0.04094475 0.04387553 0.04318593\n",
            " 0.04456512 0.03646237 0.02939402 0.0318076  0.02948022 0.01887768\n",
            " 0.02379105 0.01801569 0.03706577 0.04706491 0.04508232 0.03853116\n",
            " 0.04568572 0.04973709 0.04930609 0.05499526 0.05447806 0.04525472\n",
            " 0.04180674 0.04663391 0.04042755 0.03387639 0.03361779 0.02861822\n",
            " 0.04335833 0.05292647 0.05887423 0.05482286 0.05396087 0.05111628\n",
            " 0.0482717  0.05275407 0.0490475  0.04499612 0.03835876 0.03456599\n",
            " 0.03568658 0.03654857 0.02948022 0.02551504 0.03430739 0.03508318\n",
            " 0.0320662  0.02723903 0.01396431 0.02137747 0.02896302 0.03111801\n",
            " 0.04077235 0.03732437 0.03577278 0.032411   0.03335919 0.02560124\n",
            " 0.02267046 0.02292906 0.01965348 0.01749849 0.03225296 0.03111256\n",
            " 0.03084837 0.03123633 0.03201745 0.03299335]\n",
            "6 day output [[0.03404007]]\n",
            "7 day input [0.02206706 0.03094561 0.03844496 0.03922076 0.04197914 0.03973795\n",
            " 0.03853116 0.03870356 0.04215154 0.04042755 0.03810016 0.04284113\n",
            " 0.03870356 0.04284113 0.04318593 0.04637531 0.04353073 0.03335919\n",
            " 0.02775623 0.02034307 0.01491251 0.02103267 0.02560124 0.02103267\n",
            " 0.01905008 0.02430825 0.02801483 0.02792863 0.02896302 0.0318076\n",
            " 0.03594518 0.04085855 0.04094475 0.04387553 0.04318593 0.04456512\n",
            " 0.03646237 0.02939402 0.0318076  0.02948022 0.01887768 0.02379105\n",
            " 0.01801569 0.03706577 0.04706491 0.04508232 0.03853116 0.04568572\n",
            " 0.04973709 0.04930609 0.05499526 0.05447806 0.04525472 0.04180674\n",
            " 0.04663391 0.04042755 0.03387639 0.03361779 0.02861822 0.04335833\n",
            " 0.05292647 0.05887423 0.05482286 0.05396087 0.05111628 0.0482717\n",
            " 0.05275407 0.0490475  0.04499612 0.03835876 0.03456599 0.03568658\n",
            " 0.03654857 0.02948022 0.02551504 0.03430739 0.03508318 0.0320662\n",
            " 0.02723903 0.01396431 0.02137747 0.02896302 0.03111801 0.04077235\n",
            " 0.03732437 0.03577278 0.032411   0.03335919 0.02560124 0.02267046\n",
            " 0.02292906 0.01965348 0.01749849 0.03225296 0.03111256 0.03084837\n",
            " 0.03123633 0.03201745 0.03299335 0.03404007]\n",
            "7 day output [[0.03509176]]\n",
            "8 day input [0.03094561 0.03844496 0.03922076 0.04197914 0.03973795 0.03853116\n",
            " 0.03870356 0.04215154 0.04042755 0.03810016 0.04284113 0.03870356\n",
            " 0.04284113 0.04318593 0.04637531 0.04353073 0.03335919 0.02775623\n",
            " 0.02034307 0.01491251 0.02103267 0.02560124 0.02103267 0.01905008\n",
            " 0.02430825 0.02801483 0.02792863 0.02896302 0.0318076  0.03594518\n",
            " 0.04085855 0.04094475 0.04387553 0.04318593 0.04456512 0.03646237\n",
            " 0.02939402 0.0318076  0.02948022 0.01887768 0.02379105 0.01801569\n",
            " 0.03706577 0.04706491 0.04508232 0.03853116 0.04568572 0.04973709\n",
            " 0.04930609 0.05499526 0.05447806 0.04525472 0.04180674 0.04663391\n",
            " 0.04042755 0.03387639 0.03361779 0.02861822 0.04335833 0.05292647\n",
            " 0.05887423 0.05482286 0.05396087 0.05111628 0.0482717  0.05275407\n",
            " 0.0490475  0.04499612 0.03835876 0.03456599 0.03568658 0.03654857\n",
            " 0.02948022 0.02551504 0.03430739 0.03508318 0.0320662  0.02723903\n",
            " 0.01396431 0.02137747 0.02896302 0.03111801 0.04077235 0.03732437\n",
            " 0.03577278 0.032411   0.03335919 0.02560124 0.02267046 0.02292906\n",
            " 0.01965348 0.01749849 0.03225296 0.03111256 0.03084837 0.03123633\n",
            " 0.03201745 0.03299335 0.03404007 0.03509176]\n",
            "8 day output [[0.03611928]]\n",
            "9 day input [0.03844496 0.03922076 0.04197914 0.03973795 0.03853116 0.03870356\n",
            " 0.04215154 0.04042755 0.03810016 0.04284113 0.03870356 0.04284113\n",
            " 0.04318593 0.04637531 0.04353073 0.03335919 0.02775623 0.02034307\n",
            " 0.01491251 0.02103267 0.02560124 0.02103267 0.01905008 0.02430825\n",
            " 0.02801483 0.02792863 0.02896302 0.0318076  0.03594518 0.04085855\n",
            " 0.04094475 0.04387553 0.04318593 0.04456512 0.03646237 0.02939402\n",
            " 0.0318076  0.02948022 0.01887768 0.02379105 0.01801569 0.03706577\n",
            " 0.04706491 0.04508232 0.03853116 0.04568572 0.04973709 0.04930609\n",
            " 0.05499526 0.05447806 0.04525472 0.04180674 0.04663391 0.04042755\n",
            " 0.03387639 0.03361779 0.02861822 0.04335833 0.05292647 0.05887423\n",
            " 0.05482286 0.05396087 0.05111628 0.0482717  0.05275407 0.0490475\n",
            " 0.04499612 0.03835876 0.03456599 0.03568658 0.03654857 0.02948022\n",
            " 0.02551504 0.03430739 0.03508318 0.0320662  0.02723903 0.01396431\n",
            " 0.02137747 0.02896302 0.03111801 0.04077235 0.03732437 0.03577278\n",
            " 0.032411   0.03335919 0.02560124 0.02267046 0.02292906 0.01965348\n",
            " 0.01749849 0.03225296 0.03111256 0.03084837 0.03123633 0.03201745\n",
            " 0.03299335 0.03404007 0.03509176 0.03611928]\n",
            "9 day output [[0.03711328]]\n",
            "10 day input [0.03922076 0.04197914 0.03973795 0.03853116 0.03870356 0.04215154\n",
            " 0.04042755 0.03810016 0.04284113 0.03870356 0.04284113 0.04318593\n",
            " 0.04637531 0.04353073 0.03335919 0.02775623 0.02034307 0.01491251\n",
            " 0.02103267 0.02560124 0.02103267 0.01905008 0.02430825 0.02801483\n",
            " 0.02792863 0.02896302 0.0318076  0.03594518 0.04085855 0.04094475\n",
            " 0.04387553 0.04318593 0.04456512 0.03646237 0.02939402 0.0318076\n",
            " 0.02948022 0.01887768 0.02379105 0.01801569 0.03706577 0.04706491\n",
            " 0.04508232 0.03853116 0.04568572 0.04973709 0.04930609 0.05499526\n",
            " 0.05447806 0.04525472 0.04180674 0.04663391 0.04042755 0.03387639\n",
            " 0.03361779 0.02861822 0.04335833 0.05292647 0.05887423 0.05482286\n",
            " 0.05396087 0.05111628 0.0482717  0.05275407 0.0490475  0.04499612\n",
            " 0.03835876 0.03456599 0.03568658 0.03654857 0.02948022 0.02551504\n",
            " 0.03430739 0.03508318 0.0320662  0.02723903 0.01396431 0.02137747\n",
            " 0.02896302 0.03111801 0.04077235 0.03732437 0.03577278 0.032411\n",
            " 0.03335919 0.02560124 0.02267046 0.02292906 0.01965348 0.01749849\n",
            " 0.03225296 0.03111256 0.03084837 0.03123633 0.03201745 0.03299335\n",
            " 0.03404007 0.03509176 0.03611928 0.03711328]\n",
            "10 day output [[0.03807341]]\n",
            "11 day input [0.04197914 0.03973795 0.03853116 0.03870356 0.04215154 0.04042755\n",
            " 0.03810016 0.04284113 0.03870356 0.04284113 0.04318593 0.04637531\n",
            " 0.04353073 0.03335919 0.02775623 0.02034307 0.01491251 0.02103267\n",
            " 0.02560124 0.02103267 0.01905008 0.02430825 0.02801483 0.02792863\n",
            " 0.02896302 0.0318076  0.03594518 0.04085855 0.04094475 0.04387553\n",
            " 0.04318593 0.04456512 0.03646237 0.02939402 0.0318076  0.02948022\n",
            " 0.01887768 0.02379105 0.01801569 0.03706577 0.04706491 0.04508232\n",
            " 0.03853116 0.04568572 0.04973709 0.04930609 0.05499526 0.05447806\n",
            " 0.04525472 0.04180674 0.04663391 0.04042755 0.03387639 0.03361779\n",
            " 0.02861822 0.04335833 0.05292647 0.05887423 0.05482286 0.05396087\n",
            " 0.05111628 0.0482717  0.05275407 0.0490475  0.04499612 0.03835876\n",
            " 0.03456599 0.03568658 0.03654857 0.02948022 0.02551504 0.03430739\n",
            " 0.03508318 0.0320662  0.02723903 0.01396431 0.02137747 0.02896302\n",
            " 0.03111801 0.04077235 0.03732437 0.03577278 0.032411   0.03335919\n",
            " 0.02560124 0.02267046 0.02292906 0.01965348 0.01749849 0.03225296\n",
            " 0.03111256 0.03084837 0.03123633 0.03201745 0.03299335 0.03404007\n",
            " 0.03509176 0.03611928 0.03711328 0.03807341]\n",
            "11 day output [[0.03900236]]\n",
            "12 day input [0.03973795 0.03853116 0.03870356 0.04215154 0.04042755 0.03810016\n",
            " 0.04284113 0.03870356 0.04284113 0.04318593 0.04637531 0.04353073\n",
            " 0.03335919 0.02775623 0.02034307 0.01491251 0.02103267 0.02560124\n",
            " 0.02103267 0.01905008 0.02430825 0.02801483 0.02792863 0.02896302\n",
            " 0.0318076  0.03594518 0.04085855 0.04094475 0.04387553 0.04318593\n",
            " 0.04456512 0.03646237 0.02939402 0.0318076  0.02948022 0.01887768\n",
            " 0.02379105 0.01801569 0.03706577 0.04706491 0.04508232 0.03853116\n",
            " 0.04568572 0.04973709 0.04930609 0.05499526 0.05447806 0.04525472\n",
            " 0.04180674 0.04663391 0.04042755 0.03387639 0.03361779 0.02861822\n",
            " 0.04335833 0.05292647 0.05887423 0.05482286 0.05396087 0.05111628\n",
            " 0.0482717  0.05275407 0.0490475  0.04499612 0.03835876 0.03456599\n",
            " 0.03568658 0.03654857 0.02948022 0.02551504 0.03430739 0.03508318\n",
            " 0.0320662  0.02723903 0.01396431 0.02137747 0.02896302 0.03111801\n",
            " 0.04077235 0.03732437 0.03577278 0.032411   0.03335919 0.02560124\n",
            " 0.02267046 0.02292906 0.01965348 0.01749849 0.03225296 0.03111256\n",
            " 0.03084837 0.03123633 0.03201745 0.03299335 0.03404007 0.03509176\n",
            " 0.03611928 0.03711328 0.03807341 0.03900236]\n",
            "12 day output [[0.03990327]]\n",
            "13 day input [0.03853116 0.03870356 0.04215154 0.04042755 0.03810016 0.04284113\n",
            " 0.03870356 0.04284113 0.04318593 0.04637531 0.04353073 0.03335919\n",
            " 0.02775623 0.02034307 0.01491251 0.02103267 0.02560124 0.02103267\n",
            " 0.01905008 0.02430825 0.02801483 0.02792863 0.02896302 0.0318076\n",
            " 0.03594518 0.04085855 0.04094475 0.04387553 0.04318593 0.04456512\n",
            " 0.03646237 0.02939402 0.0318076  0.02948022 0.01887768 0.02379105\n",
            " 0.01801569 0.03706577 0.04706491 0.04508232 0.03853116 0.04568572\n",
            " 0.04973709 0.04930609 0.05499526 0.05447806 0.04525472 0.04180674\n",
            " 0.04663391 0.04042755 0.03387639 0.03361779 0.02861822 0.04335833\n",
            " 0.05292647 0.05887423 0.05482286 0.05396087 0.05111628 0.0482717\n",
            " 0.05275407 0.0490475  0.04499612 0.03835876 0.03456599 0.03568658\n",
            " 0.03654857 0.02948022 0.02551504 0.03430739 0.03508318 0.0320662\n",
            " 0.02723903 0.01396431 0.02137747 0.02896302 0.03111801 0.04077235\n",
            " 0.03732437 0.03577278 0.032411   0.03335919 0.02560124 0.02267046\n",
            " 0.02292906 0.01965348 0.01749849 0.03225296 0.03111256 0.03084837\n",
            " 0.03123633 0.03201745 0.03299335 0.03404007 0.03509176 0.03611928\n",
            " 0.03711328 0.03807341 0.03900236 0.03990327]\n",
            "13 day output [[0.04077883]]\n",
            "14 day input [0.03870356 0.04215154 0.04042755 0.03810016 0.04284113 0.03870356\n",
            " 0.04284113 0.04318593 0.04637531 0.04353073 0.03335919 0.02775623\n",
            " 0.02034307 0.01491251 0.02103267 0.02560124 0.02103267 0.01905008\n",
            " 0.02430825 0.02801483 0.02792863 0.02896302 0.0318076  0.03594518\n",
            " 0.04085855 0.04094475 0.04387553 0.04318593 0.04456512 0.03646237\n",
            " 0.02939402 0.0318076  0.02948022 0.01887768 0.02379105 0.01801569\n",
            " 0.03706577 0.04706491 0.04508232 0.03853116 0.04568572 0.04973709\n",
            " 0.04930609 0.05499526 0.05447806 0.04525472 0.04180674 0.04663391\n",
            " 0.04042755 0.03387639 0.03361779 0.02861822 0.04335833 0.05292647\n",
            " 0.05887423 0.05482286 0.05396087 0.05111628 0.0482717  0.05275407\n",
            " 0.0490475  0.04499612 0.03835876 0.03456599 0.03568658 0.03654857\n",
            " 0.02948022 0.02551504 0.03430739 0.03508318 0.0320662  0.02723903\n",
            " 0.01396431 0.02137747 0.02896302 0.03111801 0.04077235 0.03732437\n",
            " 0.03577278 0.032411   0.03335919 0.02560124 0.02267046 0.02292906\n",
            " 0.01965348 0.01749849 0.03225296 0.03111256 0.03084837 0.03123633\n",
            " 0.03201745 0.03299335 0.03404007 0.03509176 0.03611928 0.03711328\n",
            " 0.03807341 0.03900236 0.03990327 0.04077883]\n",
            "14 day output [[0.04163109]]\n",
            "15 day input [0.04215154 0.04042755 0.03810016 0.04284113 0.03870356 0.04284113\n",
            " 0.04318593 0.04637531 0.04353073 0.03335919 0.02775623 0.02034307\n",
            " 0.01491251 0.02103267 0.02560124 0.02103267 0.01905008 0.02430825\n",
            " 0.02801483 0.02792863 0.02896302 0.0318076  0.03594518 0.04085855\n",
            " 0.04094475 0.04387553 0.04318593 0.04456512 0.03646237 0.02939402\n",
            " 0.0318076  0.02948022 0.01887768 0.02379105 0.01801569 0.03706577\n",
            " 0.04706491 0.04508232 0.03853116 0.04568572 0.04973709 0.04930609\n",
            " 0.05499526 0.05447806 0.04525472 0.04180674 0.04663391 0.04042755\n",
            " 0.03387639 0.03361779 0.02861822 0.04335833 0.05292647 0.05887423\n",
            " 0.05482286 0.05396087 0.05111628 0.0482717  0.05275407 0.0490475\n",
            " 0.04499612 0.03835876 0.03456599 0.03568658 0.03654857 0.02948022\n",
            " 0.02551504 0.03430739 0.03508318 0.0320662  0.02723903 0.01396431\n",
            " 0.02137747 0.02896302 0.03111801 0.04077235 0.03732437 0.03577278\n",
            " 0.032411   0.03335919 0.02560124 0.02267046 0.02292906 0.01965348\n",
            " 0.01749849 0.03225296 0.03111256 0.03084837 0.03123633 0.03201745\n",
            " 0.03299335 0.03404007 0.03509176 0.03611928 0.03711328 0.03807341\n",
            " 0.03900236 0.03990327 0.04077883 0.04163109]\n",
            "15 day output [[0.04246165]]\n",
            "16 day input [0.04042755 0.03810016 0.04284113 0.03870356 0.04284113 0.04318593\n",
            " 0.04637531 0.04353073 0.03335919 0.02775623 0.02034307 0.01491251\n",
            " 0.02103267 0.02560124 0.02103267 0.01905008 0.02430825 0.02801483\n",
            " 0.02792863 0.02896302 0.0318076  0.03594518 0.04085855 0.04094475\n",
            " 0.04387553 0.04318593 0.04456512 0.03646237 0.02939402 0.0318076\n",
            " 0.02948022 0.01887768 0.02379105 0.01801569 0.03706577 0.04706491\n",
            " 0.04508232 0.03853116 0.04568572 0.04973709 0.04930609 0.05499526\n",
            " 0.05447806 0.04525472 0.04180674 0.04663391 0.04042755 0.03387639\n",
            " 0.03361779 0.02861822 0.04335833 0.05292647 0.05887423 0.05482286\n",
            " 0.05396087 0.05111628 0.0482717  0.05275407 0.0490475  0.04499612\n",
            " 0.03835876 0.03456599 0.03568658 0.03654857 0.02948022 0.02551504\n",
            " 0.03430739 0.03508318 0.0320662  0.02723903 0.01396431 0.02137747\n",
            " 0.02896302 0.03111801 0.04077235 0.03732437 0.03577278 0.032411\n",
            " 0.03335919 0.02560124 0.02267046 0.02292906 0.01965348 0.01749849\n",
            " 0.03225296 0.03111256 0.03084837 0.03123633 0.03201745 0.03299335\n",
            " 0.03404007 0.03509176 0.03611928 0.03711328 0.03807341 0.03900236\n",
            " 0.03990327 0.04077883 0.04163109 0.04246165]\n",
            "16 day output [[0.04327178]]\n",
            "17 day input [0.03810016 0.04284113 0.03870356 0.04284113 0.04318593 0.04637531\n",
            " 0.04353073 0.03335919 0.02775623 0.02034307 0.01491251 0.02103267\n",
            " 0.02560124 0.02103267 0.01905008 0.02430825 0.02801483 0.02792863\n",
            " 0.02896302 0.0318076  0.03594518 0.04085855 0.04094475 0.04387553\n",
            " 0.04318593 0.04456512 0.03646237 0.02939402 0.0318076  0.02948022\n",
            " 0.01887768 0.02379105 0.01801569 0.03706577 0.04706491 0.04508232\n",
            " 0.03853116 0.04568572 0.04973709 0.04930609 0.05499526 0.05447806\n",
            " 0.04525472 0.04180674 0.04663391 0.04042755 0.03387639 0.03361779\n",
            " 0.02861822 0.04335833 0.05292647 0.05887423 0.05482286 0.05396087\n",
            " 0.05111628 0.0482717  0.05275407 0.0490475  0.04499612 0.03835876\n",
            " 0.03456599 0.03568658 0.03654857 0.02948022 0.02551504 0.03430739\n",
            " 0.03508318 0.0320662  0.02723903 0.01396431 0.02137747 0.02896302\n",
            " 0.03111801 0.04077235 0.03732437 0.03577278 0.032411   0.03335919\n",
            " 0.02560124 0.02267046 0.02292906 0.01965348 0.01749849 0.03225296\n",
            " 0.03111256 0.03084837 0.03123633 0.03201745 0.03299335 0.03404007\n",
            " 0.03509176 0.03611928 0.03711328 0.03807341 0.03900236 0.03990327\n",
            " 0.04077883 0.04163109 0.04246165 0.04327178]\n",
            "17 day output [[0.04406258]]\n",
            "18 day input [0.04284113 0.03870356 0.04284113 0.04318593 0.04637531 0.04353073\n",
            " 0.03335919 0.02775623 0.02034307 0.01491251 0.02103267 0.02560124\n",
            " 0.02103267 0.01905008 0.02430825 0.02801483 0.02792863 0.02896302\n",
            " 0.0318076  0.03594518 0.04085855 0.04094475 0.04387553 0.04318593\n",
            " 0.04456512 0.03646237 0.02939402 0.0318076  0.02948022 0.01887768\n",
            " 0.02379105 0.01801569 0.03706577 0.04706491 0.04508232 0.03853116\n",
            " 0.04568572 0.04973709 0.04930609 0.05499526 0.05447806 0.04525472\n",
            " 0.04180674 0.04663391 0.04042755 0.03387639 0.03361779 0.02861822\n",
            " 0.04335833 0.05292647 0.05887423 0.05482286 0.05396087 0.05111628\n",
            " 0.0482717  0.05275407 0.0490475  0.04499612 0.03835876 0.03456599\n",
            " 0.03568658 0.03654857 0.02948022 0.02551504 0.03430739 0.03508318\n",
            " 0.0320662  0.02723903 0.01396431 0.02137747 0.02896302 0.03111801\n",
            " 0.04077235 0.03732437 0.03577278 0.032411   0.03335919 0.02560124\n",
            " 0.02267046 0.02292906 0.01965348 0.01749849 0.03225296 0.03111256\n",
            " 0.03084837 0.03123633 0.03201745 0.03299335 0.03404007 0.03509176\n",
            " 0.03611928 0.03711328 0.03807341 0.03900236 0.03990327 0.04077883\n",
            " 0.04163109 0.04246165 0.04327178 0.04406258]\n",
            "18 day output [[0.044835]]\n",
            "19 day input [0.03870356 0.04284113 0.04318593 0.04637531 0.04353073 0.03335919\n",
            " 0.02775623 0.02034307 0.01491251 0.02103267 0.02560124 0.02103267\n",
            " 0.01905008 0.02430825 0.02801483 0.02792863 0.02896302 0.0318076\n",
            " 0.03594518 0.04085855 0.04094475 0.04387553 0.04318593 0.04456512\n",
            " 0.03646237 0.02939402 0.0318076  0.02948022 0.01887768 0.02379105\n",
            " 0.01801569 0.03706577 0.04706491 0.04508232 0.03853116 0.04568572\n",
            " 0.04973709 0.04930609 0.05499526 0.05447806 0.04525472 0.04180674\n",
            " 0.04663391 0.04042755 0.03387639 0.03361779 0.02861822 0.04335833\n",
            " 0.05292647 0.05887423 0.05482286 0.05396087 0.05111628 0.0482717\n",
            " 0.05275407 0.0490475  0.04499612 0.03835876 0.03456599 0.03568658\n",
            " 0.03654857 0.02948022 0.02551504 0.03430739 0.03508318 0.0320662\n",
            " 0.02723903 0.01396431 0.02137747 0.02896302 0.03111801 0.04077235\n",
            " 0.03732437 0.03577278 0.032411   0.03335919 0.02560124 0.02267046\n",
            " 0.02292906 0.01965348 0.01749849 0.03225296 0.03111256 0.03084837\n",
            " 0.03123633 0.03201745 0.03299335 0.03404007 0.03509176 0.03611928\n",
            " 0.03711328 0.03807341 0.03900236 0.03990327 0.04077883 0.04163109\n",
            " 0.04246165 0.04327178 0.04406258 0.044835  ]\n",
            "19 day output [[0.04558995]]\n",
            "20 day input [0.04284113 0.04318593 0.04637531 0.04353073 0.03335919 0.02775623\n",
            " 0.02034307 0.01491251 0.02103267 0.02560124 0.02103267 0.01905008\n",
            " 0.02430825 0.02801483 0.02792863 0.02896302 0.0318076  0.03594518\n",
            " 0.04085855 0.04094475 0.04387553 0.04318593 0.04456512 0.03646237\n",
            " 0.02939402 0.0318076  0.02948022 0.01887768 0.02379105 0.01801569\n",
            " 0.03706577 0.04706491 0.04508232 0.03853116 0.04568572 0.04973709\n",
            " 0.04930609 0.05499526 0.05447806 0.04525472 0.04180674 0.04663391\n",
            " 0.04042755 0.03387639 0.03361779 0.02861822 0.04335833 0.05292647\n",
            " 0.05887423 0.05482286 0.05396087 0.05111628 0.0482717  0.05275407\n",
            " 0.0490475  0.04499612 0.03835876 0.03456599 0.03568658 0.03654857\n",
            " 0.02948022 0.02551504 0.03430739 0.03508318 0.0320662  0.02723903\n",
            " 0.01396431 0.02137747 0.02896302 0.03111801 0.04077235 0.03732437\n",
            " 0.03577278 0.032411   0.03335919 0.02560124 0.02267046 0.02292906\n",
            " 0.01965348 0.01749849 0.03225296 0.03111256 0.03084837 0.03123633\n",
            " 0.03201745 0.03299335 0.03404007 0.03509176 0.03611928 0.03711328\n",
            " 0.03807341 0.03900236 0.03990327 0.04077883 0.04163109 0.04246165\n",
            " 0.04327178 0.04406258 0.044835   0.04558995]\n",
            "20 day output [[0.04632823]]\n",
            "21 day input [0.04318593 0.04637531 0.04353073 0.03335919 0.02775623 0.02034307\n",
            " 0.01491251 0.02103267 0.02560124 0.02103267 0.01905008 0.02430825\n",
            " 0.02801483 0.02792863 0.02896302 0.0318076  0.03594518 0.04085855\n",
            " 0.04094475 0.04387553 0.04318593 0.04456512 0.03646237 0.02939402\n",
            " 0.0318076  0.02948022 0.01887768 0.02379105 0.01801569 0.03706577\n",
            " 0.04706491 0.04508232 0.03853116 0.04568572 0.04973709 0.04930609\n",
            " 0.05499526 0.05447806 0.04525472 0.04180674 0.04663391 0.04042755\n",
            " 0.03387639 0.03361779 0.02861822 0.04335833 0.05292647 0.05887423\n",
            " 0.05482286 0.05396087 0.05111628 0.0482717  0.05275407 0.0490475\n",
            " 0.04499612 0.03835876 0.03456599 0.03568658 0.03654857 0.02948022\n",
            " 0.02551504 0.03430739 0.03508318 0.0320662  0.02723903 0.01396431\n",
            " 0.02137747 0.02896302 0.03111801 0.04077235 0.03732437 0.03577278\n",
            " 0.032411   0.03335919 0.02560124 0.02267046 0.02292906 0.01965348\n",
            " 0.01749849 0.03225296 0.03111256 0.03084837 0.03123633 0.03201745\n",
            " 0.03299335 0.03404007 0.03509176 0.03611928 0.03711328 0.03807341\n",
            " 0.03900236 0.03990327 0.04077883 0.04163109 0.04246165 0.04327178\n",
            " 0.04406258 0.044835   0.04558995 0.04632823]\n",
            "21 day output [[0.04705061]]\n",
            "22 day input [0.04637531 0.04353073 0.03335919 0.02775623 0.02034307 0.01491251\n",
            " 0.02103267 0.02560124 0.02103267 0.01905008 0.02430825 0.02801483\n",
            " 0.02792863 0.02896302 0.0318076  0.03594518 0.04085855 0.04094475\n",
            " 0.04387553 0.04318593 0.04456512 0.03646237 0.02939402 0.0318076\n",
            " 0.02948022 0.01887768 0.02379105 0.01801569 0.03706577 0.04706491\n",
            " 0.04508232 0.03853116 0.04568572 0.04973709 0.04930609 0.05499526\n",
            " 0.05447806 0.04525472 0.04180674 0.04663391 0.04042755 0.03387639\n",
            " 0.03361779 0.02861822 0.04335833 0.05292647 0.05887423 0.05482286\n",
            " 0.05396087 0.05111628 0.0482717  0.05275407 0.0490475  0.04499612\n",
            " 0.03835876 0.03456599 0.03568658 0.03654857 0.02948022 0.02551504\n",
            " 0.03430739 0.03508318 0.0320662  0.02723903 0.01396431 0.02137747\n",
            " 0.02896302 0.03111801 0.04077235 0.03732437 0.03577278 0.032411\n",
            " 0.03335919 0.02560124 0.02267046 0.02292906 0.01965348 0.01749849\n",
            " 0.03225296 0.03111256 0.03084837 0.03123633 0.03201745 0.03299335\n",
            " 0.03404007 0.03509176 0.03611928 0.03711328 0.03807341 0.03900236\n",
            " 0.03990327 0.04077883 0.04163109 0.04246165 0.04327178 0.04406258\n",
            " 0.044835   0.04558995 0.04632823 0.04705061]\n",
            "22 day output [[0.04775777]]\n",
            "23 day input [0.04353073 0.03335919 0.02775623 0.02034307 0.01491251 0.02103267\n",
            " 0.02560124 0.02103267 0.01905008 0.02430825 0.02801483 0.02792863\n",
            " 0.02896302 0.0318076  0.03594518 0.04085855 0.04094475 0.04387553\n",
            " 0.04318593 0.04456512 0.03646237 0.02939402 0.0318076  0.02948022\n",
            " 0.01887768 0.02379105 0.01801569 0.03706577 0.04706491 0.04508232\n",
            " 0.03853116 0.04568572 0.04973709 0.04930609 0.05499526 0.05447806\n",
            " 0.04525472 0.04180674 0.04663391 0.04042755 0.03387639 0.03361779\n",
            " 0.02861822 0.04335833 0.05292647 0.05887423 0.05482286 0.05396087\n",
            " 0.05111628 0.0482717  0.05275407 0.0490475  0.04499612 0.03835876\n",
            " 0.03456599 0.03568658 0.03654857 0.02948022 0.02551504 0.03430739\n",
            " 0.03508318 0.0320662  0.02723903 0.01396431 0.02137747 0.02896302\n",
            " 0.03111801 0.04077235 0.03732437 0.03577278 0.032411   0.03335919\n",
            " 0.02560124 0.02267046 0.02292906 0.01965348 0.01749849 0.03225296\n",
            " 0.03111256 0.03084837 0.03123633 0.03201745 0.03299335 0.03404007\n",
            " 0.03509176 0.03611928 0.03711328 0.03807341 0.03900236 0.03990327\n",
            " 0.04077883 0.04163109 0.04246165 0.04327178 0.04406258 0.044835\n",
            " 0.04558995 0.04632823 0.04705061 0.04775777]\n",
            "23 day output [[0.04845033]]\n",
            "24 day input [0.03335919 0.02775623 0.02034307 0.01491251 0.02103267 0.02560124\n",
            " 0.02103267 0.01905008 0.02430825 0.02801483 0.02792863 0.02896302\n",
            " 0.0318076  0.03594518 0.04085855 0.04094475 0.04387553 0.04318593\n",
            " 0.04456512 0.03646237 0.02939402 0.0318076  0.02948022 0.01887768\n",
            " 0.02379105 0.01801569 0.03706577 0.04706491 0.04508232 0.03853116\n",
            " 0.04568572 0.04973709 0.04930609 0.05499526 0.05447806 0.04525472\n",
            " 0.04180674 0.04663391 0.04042755 0.03387639 0.03361779 0.02861822\n",
            " 0.04335833 0.05292647 0.05887423 0.05482286 0.05396087 0.05111628\n",
            " 0.0482717  0.05275407 0.0490475  0.04499612 0.03835876 0.03456599\n",
            " 0.03568658 0.03654857 0.02948022 0.02551504 0.03430739 0.03508318\n",
            " 0.0320662  0.02723903 0.01396431 0.02137747 0.02896302 0.03111801\n",
            " 0.04077235 0.03732437 0.03577278 0.032411   0.03335919 0.02560124\n",
            " 0.02267046 0.02292906 0.01965348 0.01749849 0.03225296 0.03111256\n",
            " 0.03084837 0.03123633 0.03201745 0.03299335 0.03404007 0.03509176\n",
            " 0.03611928 0.03711328 0.03807341 0.03900236 0.03990327 0.04077883\n",
            " 0.04163109 0.04246165 0.04327178 0.04406258 0.044835   0.04558995\n",
            " 0.04632823 0.04705061 0.04775777 0.04845033]\n",
            "24 day output [[0.04912884]]\n",
            "25 day input [0.02775623 0.02034307 0.01491251 0.02103267 0.02560124 0.02103267\n",
            " 0.01905008 0.02430825 0.02801483 0.02792863 0.02896302 0.0318076\n",
            " 0.03594518 0.04085855 0.04094475 0.04387553 0.04318593 0.04456512\n",
            " 0.03646237 0.02939402 0.0318076  0.02948022 0.01887768 0.02379105\n",
            " 0.01801569 0.03706577 0.04706491 0.04508232 0.03853116 0.04568572\n",
            " 0.04973709 0.04930609 0.05499526 0.05447806 0.04525472 0.04180674\n",
            " 0.04663391 0.04042755 0.03387639 0.03361779 0.02861822 0.04335833\n",
            " 0.05292647 0.05887423 0.05482286 0.05396087 0.05111628 0.0482717\n",
            " 0.05275407 0.0490475  0.04499612 0.03835876 0.03456599 0.03568658\n",
            " 0.03654857 0.02948022 0.02551504 0.03430739 0.03508318 0.0320662\n",
            " 0.02723903 0.01396431 0.02137747 0.02896302 0.03111801 0.04077235\n",
            " 0.03732437 0.03577278 0.032411   0.03335919 0.02560124 0.02267046\n",
            " 0.02292906 0.01965348 0.01749849 0.03225296 0.03111256 0.03084837\n",
            " 0.03123633 0.03201745 0.03299335 0.03404007 0.03509176 0.03611928\n",
            " 0.03711328 0.03807341 0.03900236 0.03990327 0.04077883 0.04163109\n",
            " 0.04246165 0.04327178 0.04406258 0.044835   0.04558995 0.04632823\n",
            " 0.04705061 0.04775777 0.04845033 0.04912884]\n",
            "25 day output [[0.04979381]]\n",
            "26 day input [0.02034307 0.01491251 0.02103267 0.02560124 0.02103267 0.01905008\n",
            " 0.02430825 0.02801483 0.02792863 0.02896302 0.0318076  0.03594518\n",
            " 0.04085855 0.04094475 0.04387553 0.04318593 0.04456512 0.03646237\n",
            " 0.02939402 0.0318076  0.02948022 0.01887768 0.02379105 0.01801569\n",
            " 0.03706577 0.04706491 0.04508232 0.03853116 0.04568572 0.04973709\n",
            " 0.04930609 0.05499526 0.05447806 0.04525472 0.04180674 0.04663391\n",
            " 0.04042755 0.03387639 0.03361779 0.02861822 0.04335833 0.05292647\n",
            " 0.05887423 0.05482286 0.05396087 0.05111628 0.0482717  0.05275407\n",
            " 0.0490475  0.04499612 0.03835876 0.03456599 0.03568658 0.03654857\n",
            " 0.02948022 0.02551504 0.03430739 0.03508318 0.0320662  0.02723903\n",
            " 0.01396431 0.02137747 0.02896302 0.03111801 0.04077235 0.03732437\n",
            " 0.03577278 0.032411   0.03335919 0.02560124 0.02267046 0.02292906\n",
            " 0.01965348 0.01749849 0.03225296 0.03111256 0.03084837 0.03123633\n",
            " 0.03201745 0.03299335 0.03404007 0.03509176 0.03611928 0.03711328\n",
            " 0.03807341 0.03900236 0.03990327 0.04077883 0.04163109 0.04246165\n",
            " 0.04327178 0.04406258 0.044835   0.04558995 0.04632823 0.04705061\n",
            " 0.04775777 0.04845033 0.04912884 0.04979381]\n",
            "26 day output [[0.05044572]]\n",
            "27 day input [0.01491251 0.02103267 0.02560124 0.02103267 0.01905008 0.02430825\n",
            " 0.02801483 0.02792863 0.02896302 0.0318076  0.03594518 0.04085855\n",
            " 0.04094475 0.04387553 0.04318593 0.04456512 0.03646237 0.02939402\n",
            " 0.0318076  0.02948022 0.01887768 0.02379105 0.01801569 0.03706577\n",
            " 0.04706491 0.04508232 0.03853116 0.04568572 0.04973709 0.04930609\n",
            " 0.05499526 0.05447806 0.04525472 0.04180674 0.04663391 0.04042755\n",
            " 0.03387639 0.03361779 0.02861822 0.04335833 0.05292647 0.05887423\n",
            " 0.05482286 0.05396087 0.05111628 0.0482717  0.05275407 0.0490475\n",
            " 0.04499612 0.03835876 0.03456599 0.03568658 0.03654857 0.02948022\n",
            " 0.02551504 0.03430739 0.03508318 0.0320662  0.02723903 0.01396431\n",
            " 0.02137747 0.02896302 0.03111801 0.04077235 0.03732437 0.03577278\n",
            " 0.032411   0.03335919 0.02560124 0.02267046 0.02292906 0.01965348\n",
            " 0.01749849 0.03225296 0.03111256 0.03084837 0.03123633 0.03201745\n",
            " 0.03299335 0.03404007 0.03509176 0.03611928 0.03711328 0.03807341\n",
            " 0.03900236 0.03990327 0.04077883 0.04163109 0.04246165 0.04327178\n",
            " 0.04406258 0.044835   0.04558995 0.04632823 0.04705061 0.04775777\n",
            " 0.04845033 0.04912884 0.04979381 0.05044572]\n",
            "27 day output [[0.05108496]]\n",
            "28 day input [0.02103267 0.02560124 0.02103267 0.01905008 0.02430825 0.02801483\n",
            " 0.02792863 0.02896302 0.0318076  0.03594518 0.04085855 0.04094475\n",
            " 0.04387553 0.04318593 0.04456512 0.03646237 0.02939402 0.0318076\n",
            " 0.02948022 0.01887768 0.02379105 0.01801569 0.03706577 0.04706491\n",
            " 0.04508232 0.03853116 0.04568572 0.04973709 0.04930609 0.05499526\n",
            " 0.05447806 0.04525472 0.04180674 0.04663391 0.04042755 0.03387639\n",
            " 0.03361779 0.02861822 0.04335833 0.05292647 0.05887423 0.05482286\n",
            " 0.05396087 0.05111628 0.0482717  0.05275407 0.0490475  0.04499612\n",
            " 0.03835876 0.03456599 0.03568658 0.03654857 0.02948022 0.02551504\n",
            " 0.03430739 0.03508318 0.0320662  0.02723903 0.01396431 0.02137747\n",
            " 0.02896302 0.03111801 0.04077235 0.03732437 0.03577278 0.032411\n",
            " 0.03335919 0.02560124 0.02267046 0.02292906 0.01965348 0.01749849\n",
            " 0.03225296 0.03111256 0.03084837 0.03123633 0.03201745 0.03299335\n",
            " 0.03404007 0.03509176 0.03611928 0.03711328 0.03807341 0.03900236\n",
            " 0.03990327 0.04077883 0.04163109 0.04246165 0.04327178 0.04406258\n",
            " 0.044835   0.04558995 0.04632823 0.04705061 0.04775777 0.04845033\n",
            " 0.04912884 0.04979381 0.05044572 0.05108496]\n",
            "28 day output [[0.05171192]]\n",
            "29 day input [0.02560124 0.02103267 0.01905008 0.02430825 0.02801483 0.02792863\n",
            " 0.02896302 0.0318076  0.03594518 0.04085855 0.04094475 0.04387553\n",
            " 0.04318593 0.04456512 0.03646237 0.02939402 0.0318076  0.02948022\n",
            " 0.01887768 0.02379105 0.01801569 0.03706577 0.04706491 0.04508232\n",
            " 0.03853116 0.04568572 0.04973709 0.04930609 0.05499526 0.05447806\n",
            " 0.04525472 0.04180674 0.04663391 0.04042755 0.03387639 0.03361779\n",
            " 0.02861822 0.04335833 0.05292647 0.05887423 0.05482286 0.05396087\n",
            " 0.05111628 0.0482717  0.05275407 0.0490475  0.04499612 0.03835876\n",
            " 0.03456599 0.03568658 0.03654857 0.02948022 0.02551504 0.03430739\n",
            " 0.03508318 0.0320662  0.02723903 0.01396431 0.02137747 0.02896302\n",
            " 0.03111801 0.04077235 0.03732437 0.03577278 0.032411   0.03335919\n",
            " 0.02560124 0.02267046 0.02292906 0.01965348 0.01749849 0.03225296\n",
            " 0.03111256 0.03084837 0.03123633 0.03201745 0.03299335 0.03404007\n",
            " 0.03509176 0.03611928 0.03711328 0.03807341 0.03900236 0.03990327\n",
            " 0.04077883 0.04163109 0.04246165 0.04327178 0.04406258 0.044835\n",
            " 0.04558995 0.04632823 0.04705061 0.04775777 0.04845033 0.04912884\n",
            " 0.04979381 0.05044572 0.05108496 0.05171192]\n",
            "29 day output [[0.05232699]]\n",
            "[[0.0322529636323452], [0.031112559139728546], [0.030848374590277672], [0.031236333772540092], [0.03201745077967644], [0.03299334645271301], [0.03404007479548454], [0.035091761499643326], [0.03611927852034569], [0.03711327910423279], [0.03807340934872627], [0.03900235518813133], [0.039903268218040466], [0.04077883064746857], [0.04163108766078949], [0.04246164858341217], [0.043271783739328384], [0.044062577188014984], [0.04483500123023987], [0.04558994993567467], [0.04632822796702385], [0.04705061390995979], [0.047757767140865326], [0.04845033213496208], [0.04912883788347244], [0.04979380965232849], [0.05044572055339813], [0.051084961742162704], [0.05171192064881325], [0.0523269884288311]]\n"
          ]
        }
      ]
    },
    {
      "cell_type": "code",
      "source": [
        "day_new=np.arange(1,101)\n",
        "day_pred=np.arange(101,131)"
      ],
      "metadata": {
        "id": "K6J-FucsHZwi"
      },
      "execution_count": 29,
      "outputs": []
    },
    {
      "cell_type": "code",
      "source": [
        "plt.plot(day_new,scaler.inverse_transform(df1[1564:])) #len(df1)\n",
        "plt.plot(day_pred,scaler.inverse_transform(lst_output))"
      ],
      "metadata": {
        "colab": {
          "base_uri": "https://localhost:8080/",
          "height": 447
        },
        "id": "ldB1Z0_PHaOY",
        "outputId": "e41f7e42-0541-4345-f2e0-09b0842ea7fb"
      },
      "execution_count": 30,
      "outputs": [
        {
          "output_type": "execute_result",
          "data": {
            "text/plain": [
              "[<matplotlib.lines.Line2D at 0x798d1a39b760>]"
            ]
          },
          "metadata": {},
          "execution_count": 30
        },
        {
          "output_type": "display_data",
          "data": {
            "text/plain": [
              "<Figure size 640x480 with 1 Axes>"
            ],
            "image/png": "[encoded data removed]"
          },
          "metadata": {}
        }
      ]
    },
    {
      "cell_type": "code",
      "source": [
        "\n",
        "df3=df1.tolist()\n",
        "df3.extend(lst_output)\n",
        "df3=scaler.inverse_transform(df3).tolist()\n",
        "plt.plot(df3[1600:])"
      ],
      "metadata": {
        "colab": {
          "base_uri": "https://localhost:8080/",
          "height": 447
        },
        "id": "GIoHQno5HcGb",
        "outputId": "40d2326b-8386-4514-b7dd-4609ec4a3f72"
      },
      "execution_count": 32,
      "outputs": [
        {
          "output_type": "execute_result",
          "data": {
            "text/plain": [
              "[<matplotlib.lines.Line2D at 0x798d19294970>]"
            ]
          },
          "metadata": {},
          "execution_count": 32
        },
        {
          "output_type": "display_data",
          "data": {
            "text/plain": [
              "<Figure size 640x480 with 1 Axes>"
            ],
            "image/png": "[encoded data removed]"
          },
          "metadata": {}
        }
      ]
    },
    {
      "cell_type": "code",
      "source": [
        "plt.plot(df3)"
      ],
      "metadata": {
        "colab": {
          "base_uri": "https://localhost:8080/",
          "height": 447
        },
        "id": "HsIU8sB0Hfsh",
        "outputId": "166b502c-a5e0-4921-9539-6bdd0f3d0166"
      },
      "execution_count": 33,
      "outputs": [
        {
          "output_type": "execute_result",
          "data": {
            "text/plain": [
              "[<matplotlib.lines.Line2D at 0x798d1a003220>]"
            ]
          },
          "metadata": {},
          "execution_count": 33
        },
        {
          "output_type": "display_data",
          "data": {
            "text/plain": [
              "<Figure size 640x480 with 1 Axes>"
            ],
            "image/png": "[encoded data removed]"
          },
          "metadata": {}
        }
      ]
    },
    {
      "cell_type": "code",
      "source": [],
      "metadata": {
        "id": "GywtO3GQHmrM"
      },
      "execution_count": null,
      "outputs": []
    }
  ]
}